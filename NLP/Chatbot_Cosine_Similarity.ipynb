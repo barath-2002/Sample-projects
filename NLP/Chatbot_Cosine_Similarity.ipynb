{
  "cells": [
    {
      "cell_type": "code",
      "execution_count": 1,
      "id": "bca81529",
      "metadata": {
        "id": "bca81529"
      },
      "outputs": [
        {
          "name": "stderr",
          "output_type": "stream",
          "text": [
            "c:\\Users\\Barath Raaj\\AppData\\Local\\Programs\\Python\\Python311\\Lib\\site-packages\\tqdm\\auto.py:21: TqdmWarning: IProgress not found. Please update jupyter and ipywidgets. See https://ipywidgets.readthedocs.io/en/stable/user_install.html\n",
            "  from .autonotebook import tqdm as notebook_tqdm\n"
          ]
        }
      ],
      "source": [
        "import pandas as pd\n",
        "import matplotlib.pyplot as plt\n",
        "import seaborn as sns\n",
        "import datasets"
      ]
    },
    {
      "cell_type": "code",
      "execution_count": 2,
      "id": "8e7166cf",
      "metadata": {},
      "outputs": [],
      "source": [
        "#pip install kaggle\n",
        "import kaggle"
      ]
    },
    {
      "cell_type": "code",
      "execution_count": 3,
      "id": "529b361a",
      "metadata": {},
      "outputs": [],
      "source": [
        "from kaggle.api.kaggle_api_extended import KaggleApi\n",
        "api = KaggleApi()\n",
        "api.authenticate()\n"
      ]
    },
    {
      "cell_type": "code",
      "execution_count": 4,
      "id": "1328332f",
      "metadata": {},
      "outputs": [
        {
          "name": "stdout",
          "output_type": "stream",
          "text": [
            "Dataset URL: https://www.kaggle.com/datasets/thedevastator/comprehensive-medical-q-a-dataset\n"
          ]
        },
        {
          "data": {
            "text/plain": [
              "False"
            ]
          },
          "execution_count": 4,
          "metadata": {},
          "output_type": "execute_result"
        }
      ],
      "source": [
        "api.dataset_download_file('thedevastator/comprehensive-medical-q-a-dataset',file_name = 'train.csv',path = 'D:/VScode/chatbot/')"
      ]
    },
    {
      "cell_type": "code",
      "execution_count": 5,
      "id": "97d0832e",
      "metadata": {},
      "outputs": [],
      "source": [
        "#----------------------------------------------------------IMPORTING THE DATA--------------------------------------------------------------------------------\n",
        "\n",
        "import zipfile\n",
        "with zipfile.ZipFile('D:/VScode/chatbot/train.csv.zip') as zipref:\n",
        "    zipref.extractall()#df = pd.read_csv(\"D:/VScode/chatbot/test.csv\", encoding='unicode_escape')\n",
        "df = pd.read_csv('train.csv')\n",
        "df = df.rename(columns={'Question': 'Questions', 'Answer': 'Answers'})\n",
        "\n",
        "\n",
        "questions_list = df['Questions'].tolist()\n",
        "answers_list = df['Answers'].tolist()\n"
      ]
    },
    {
      "cell_type": "code",
      "execution_count": 6,
      "id": "6398a06c",
      "metadata": {},
      "outputs": [
        {
          "name": "stdout",
          "output_type": "stream",
          "text": [
            "Who is at risk for Lymphocytic Choriomeningitis (LCM)? ?\n",
            "Ans:  LCMV infections can occur after exposure to fresh urine, droppings, saliva, or nesting materials from infected rodents.  Transmission may also occur when these materials are directly introduced into broken skin, the nose, the eyes, or the mouth, or presumably, via the bite of an infected rodent. Person-to-person transmission has not been reported, with the exception of vertical transmission from infected mother to fetus, and rarely, through organ transplantation.\n",
            "What are the symptoms of Lymphocytic Choriomeningitis (LCM) ?\n",
            "Ans:  LCMV is most commonly recognized as causing neurological disease, as its name implies, though infection without symptoms or mild febrile illnesses are more common clinical manifestations. \n",
            "                \n",
            "For infected persons who do become ill, onset of symptoms usually occurs 8-13 days after exposure to the virus as part of a biphasic febrile illness. This initial phase, which may last as long as a week, typically begins with any or all of the following symptoms: fever, malaise, lack of appetite, muscle aches, headache, nausea, and vomiting. Other symptoms appearing less frequently include sore throat, cough, joint pain, chest pain, testicular pain, and parotid (salivary gland) pain. \n",
            "                \n",
            "Following a few days of recovery, a second phase of illness may occur. Symptoms may consist of meningitis (fever, headache, stiff neck, etc.), encephalitis (drowsiness, confusion, sensory disturbances, and/or motor abnormalities, such as paralysis), or meningoencephalitis (inflammation of both the brain and meninges). LCMV has also been known to cause acute hydrocephalus (increased fluid on the brain), which often requires surgical shunting to relieve increased intracranial pressure. In rare instances, infection results in myelitis (inflammation of the spinal cord) and presents with symptoms such as muscle weakness, paralysis, or changes in body sensation. An association between LCMV infection and myocarditis (inflammation of the heart muscles) has been suggested. \n",
            "                \n",
            "Previous observations show that most patients who develop aseptic meningitis or encephalitis due to LCMV survive. No chronic infection has been described in humans, and after the acute phase of illness, the virus is cleared from the body. However, as in all infections of the central nervous system, particularly encephalitis, temporary or permanent neurological damage is possible. Nerve deafness and arthritis have been reported. \n",
            "                \n",
            "Women who become infected with LCMV during pregnancy may pass the infection on to the fetus. Infections occurring during the first trimester may result in fetal death and pregnancy termination, while in the second and third trimesters, birth defects can develop. Infants infected In utero can have many serious and permanent birth defects, including vision problems, mental retardation, and hydrocephaly (water on the brain). Pregnant women may recall a flu-like illness during pregnancy, or may not recall any illness. \n",
            "                \n",
            "LCM is usually not fatal. In general, mortality is less than 1%.\n",
            "Who is at risk for Lymphocytic Choriomeningitis (LCM)? ?\n",
            "Ans:  Individuals of all ages who come into contact with urine, feces, saliva, or blood of wild mice are potentially at risk for infection. Owners of pet mice or hamsters may be at risk for infection if these animals originate from colonies that were contaminated with LCMV, or if their animals are infected from other wild mice. Human fetuses are at risk of acquiring infection vertically from an infected mother. \n",
            "                \n",
            "Laboratory workers who work with the virus or handle infected animals are also at risk. However, this risk can be minimized by utilizing animals from sources that regularly test for the virus, wearing proper protective laboratory gear, and following appropriate safety precautions.\n",
            "How to diagnose Lymphocytic Choriomeningitis (LCM) ?\n",
            "Ans:  During the first phase of the disease, the most common laboratory abnormalities are a low white blood cell count (leukopenia) and a low platelet count (thrombocytopenia). Liver enzymes in the serum may also be mildly elevated. After the onset of neurological disease during the second phase, an increase in protein levels, an increase in the number of white blood cells or a decrease in the glucose levels in the cerebrospinal fluid (CSF) is usually found. \n",
            "   \n",
            "Laboratory diagnosis is usually made by detecting IgM and IgG antibodies in the CSF and serum. Virus can be detected by PCR or virus isolation in the CSF at during the acute stage of illness.\n",
            "What are the treatments for Lymphocytic Choriomeningitis (LCM) ?\n",
            "Ans:  Aseptic meningitis, encephalitis, or meningoencephalitis requires hospitalization and supportive treatment based on severity. Anti-inflammatory drugs, such as corticosteroids, may be considered under specific circumstances. Although studies have shown that ribavirin, a drug used to treat several other viral diseases, is effective against LCMV in vitro, there is no established evidence to support its routine use for treatment of LCM in humans.\n"
          ]
        }
      ],
      "source": [
        "#---------------------------------------------------------------------------SAMPLE Q&A-------------------------------------------------------------------------------------\n",
        "for i in range(0,5):\n",
        "    print(questions_list[i])\n",
        "    print(\"Ans: \",answers_list[i])"
      ]
    },
    {
      "cell_type": "code",
      "execution_count": 10,
      "id": "a3bffd3a",
      "metadata": {
        "colab": {
          "base_uri": "https://localhost:8080/"
        },
        "id": "a3bffd3a",
        "outputId": "2836429f-1ca8-41ea-cba0-0f93ac545368"
      },
      "outputs": [
        {
          "name": "stderr",
          "output_type": "stream",
          "text": [
            "[nltk_data] Downloading package punkt to C:\\Users\\Barath\n",
            "[nltk_data]     Raaj\\AppData\\Roaming\\nltk_data...\n",
            "[nltk_data]   Package punkt is already up-to-date!\n",
            "[nltk_data] Downloading package wordnet to C:\\Users\\Barath\n",
            "[nltk_data]     Raaj\\AppData\\Roaming\\nltk_data...\n",
            "[nltk_data]   Package wordnet is already up-to-date!\n",
            "[nltk_data] Downloading package stopwords to C:\\Users\\Barath\n",
            "[nltk_data]     Raaj\\AppData\\Roaming\\nltk_data...\n",
            "[nltk_data]   Package stopwords is already up-to-date!\n"
          ]
        },
        {
          "data": {
            "text/plain": [
              "True"
            ]
          },
          "execution_count": 10,
          "metadata": {},
          "output_type": "execute_result"
        }
      ],
      "source": [
        "import nltk\n",
        "import numpy as np\n",
        "from sklearn.feature_extraction.text import TfidfVectorizer\n",
        "from sklearn.metrics.pairwise import cosine_similarity\n",
        "from nltk.stem import WordNetLemmatizer, PorterStemmer\n",
        "from nltk.corpus import stopwords\n",
        "from nltk.tokenize import word_tokenize\n",
        "import re\n",
        "\n",
        "nltk.download('punkt')\n",
        "nltk.download('wordnet')\n",
        "nltk.download('stopwords')"
      ]
    },
    {
      "cell_type": "code",
      "execution_count": 12,
      "id": "5e900a08",
      "metadata": {
        "id": "5e900a08"
      },
      "outputs": [],
      "source": [
        "\n",
        "def preprocess(text):\n",
        "    lemmatizer = WordNetLemmatizer()\n",
        "    stemmer = PorterStemmer()\n",
        "    text = re.sub(r'[^\\w\\s]', '', text)  # Remove non-alphanumeric characters\n",
        "    tokens = word_tokenize(text.lower())\n",
        "    tokens = [token for token in tokens if token not in stopwords.words('english')]\n",
        "    lemmatized_tokens = [lemmatizer.lemmatize(token) for token in tokens]\n",
        "    stemmed_tokens = [stemmer.stem(token) for token in lemmatized_tokens]\n",
        "    return ' '.join(stemmed_tokens)\n",
        "\n",
        "def preprocess_with_stopwords(text):\n",
        "    lemmatizer = WordNetLemmatizer()\n",
        "    stemmer = PorterStemmer()\n",
        "    text = re.sub(r'[^\\w\\s]', '', text)  # Remove non-alphanumeric characters\n",
        "    tokens = word_tokenize(text.lower())\n",
        "    lemmatized_tokens = [lemmatizer.lemmatize(token) for token in tokens]\n",
        "    stemmed_tokens = [stemmer.stem(token) for token in lemmatized_tokens]\n",
        "    return ' '.join(stemmed_tokens)"
      ]
    },
    {
      "cell_type": "code",
      "execution_count": 15,
      "id": "a0320d12",
      "metadata": {
        "colab": {
          "base_uri": "https://localhost:8080/",
          "height": 87
        },
        "id": "a0320d12",
        "outputId": "13ba0331-5492-4b86-ea40-74bcb93ed502"
      },
      "outputs": [],
      "source": [
        "vectorizer = TfidfVectorizer(tokenizer=nltk.word_tokenize)\n",
        "\n",
        "def get_response(text,questions_list):\n",
        "    X = vectorizer.fit_transform([preprocess(q) for q in questions_list])\n",
        "    processed_text = preprocess_with_stopwords(text)\n",
        "    print(\"processed_text:\", processed_text)\n",
        "    vectorized_text = vectorizer.transform([processed_text])\n",
        "    similarities = cosine_similarity(vectorized_text, X)\n",
        "    print(\"similarities:\", similarities)\n",
        "    # Step 1: Convert to Pandas Series\n",
        "    similarities_series = pd.Series(similarities[0])\n",
        "\n",
        "    # Step 2: Get the top 10 value counts\n",
        "    top_10_value_counts = similarities_series.value_counts().nlargest(10)\n",
        "\n",
        "    # Step 3: Plot using Seaborn\n",
        "    fig = plt.figure(figsize=(10, 5))\n",
        "    ax = sns.barplot(x=top_10_value_counts.index, y=top_10_value_counts.values)\n",
        "\n",
        "\n",
        "    # Step 4: Add bar labels\n",
        "    for container in ax.containers:\n",
        "        ax.bar_label(container)\n",
        "\n",
        "    plt.show()\n",
        "    max_similarity = np.max(similarities)\n",
        "    print(\"max_similarity:\", max_similarity)\n",
        "    if max_similarity > 0.6:\n",
        "        high_similarity_questions = [q for q, s in zip(questions_list, similarities[0]) if s > 0.6]\n",
        "        print(\"high_similarity_questions:\", high_similarity_questions)\n",
        "\n",
        "        target_answers = []\n",
        "        for q in high_similarity_questions:\n",
        "            q_index = questions_list.index(q)\n",
        "            target_answers.append(answers_list[q_index])\n",
        "        print(target_answers)\n",
        "\n",
        "        Z = vectorizer.fit_transform([preprocess_with_stopwords(q) for q in high_similarity_questions])\n",
        "        processed_text_with_stopwords = preprocess_with_stopwords(text)\n",
        "        print(\"processed_text_with_stopwords:\", processed_text_with_stopwords)\n",
        "        vectorized_text_with_stopwords = vectorizer.transform([processed_text_with_stopwords])\n",
        "        final_similarities = cosine_similarity(vectorized_text_with_stopwords, Z)\n",
        "        closest = np.argmax(final_similarities)\n",
        "        return target_answers[closest]\n",
        "    else:\n",
        "        return \"I can't answer this question.\"\n",
        "\n",
        "#get_response('Talk about machine learning and data analytics',questions_list)"
      ]
    },
    {
      "cell_type": "code",
      "execution_count": 16,
      "id": "cffc2948",
      "metadata": {},
      "outputs": [
        {
          "name": "stderr",
          "output_type": "stream",
          "text": [
            "c:\\Users\\Barath Raaj\\AppData\\Local\\Programs\\Python\\Python311\\Lib\\site-packages\\sklearn\\feature_extraction\\text.py:521: UserWarning: The parameter 'token_pattern' will not be used since 'tokenizer' is not None'\n",
            "  warnings.warn(\n"
          ]
        },
        {
          "name": "stdout",
          "output_type": "stream",
          "text": [
            "processed_text: hello who is thi\n",
            "similarities: [[0. 0. 0. ... 0. 0. 0.]]\n"
          ]
        },
        {
          "data": {
            "image/png": "[encoded data removed]",
            "text/plain": [
              "<Figure size 1000x500 with 1 Axes>"
            ]
          },
          "metadata": {},
          "output_type": "display_data"
        },
        {
          "name": "stdout",
          "output_type": "stream",
          "text": [
            "max_similarity: 0.0\n"
          ]
        },
        {
          "data": {
            "text/plain": [
              "\"I can't answer this question.\""
            ]
          },
          "execution_count": 16,
          "metadata": {},
          "output_type": "execute_result"
        }
      ],
      "source": [
        "get_response('Hello who is this',questions_list)"
      ]
    },
    {
      "cell_type": "code",
      "execution_count": 44,
      "id": "YHHBV_uDhrSB",
      "metadata": {
        "colab": {
          "base_uri": "https://localhost:8080/"
        },
        "id": "YHHBV_uDhrSB",
        "outputId": "0ce83955-94ea-49e0-e7fc-4dfd215bb010"
      },
      "outputs": [],
      "source": [
        "# from gingerit import GingerIt\n",
        "\n",
        "# text = 'What is Data Anlytics'\n",
        "# parser = GingerIt()\n",
        "# corrected_text = parser.parse(text)\n",
        "\n",
        "# print(corrected_text['result'])"
      ]
    },
    {
      "cell_type": "code",
      "execution_count": 17,
      "id": "uJ_s0VrsjGcs",
      "metadata": {
        "id": "uJ_s0VrsjGcs"
      },
      "outputs": [
        {
          "name": "stderr",
          "output_type": "stream",
          "text": [
            "c:\\Users\\Barath Raaj\\AppData\\Local\\Programs\\Python\\Python311\\Lib\\site-packages\\sklearn\\feature_extraction\\text.py:521: UserWarning: The parameter 'token_pattern' will not be used since 'tokenizer' is not None'\n",
            "  warnings.warn(\n"
          ]
        },
        {
          "name": "stdout",
          "output_type": "stream",
          "text": [
            "processed_text: treatment for parasit hookworm\n",
            "similarities: [[0.         0.         0.         ... 0.         0.05922805 0.        ]]\n"
          ]
        },
        {
          "data": {
            "image/png": "[encoded data removed]",
            "text/plain": [
              "<Figure size 1000x500 with 1 Axes>"
            ]
          },
          "metadata": {},
          "output_type": "display_data"
        },
        {
          "name": "stdout",
          "output_type": "stream",
          "text": [
            "max_similarity: 1.0000000000000002\n",
            "high_similarity_questions: ['What is (are) Parasites - Hookworm ?', 'Who is at risk for Parasites - Hookworm? ?', 'How to diagnose Parasites - Hookworm ?', 'What are the treatments for Parasites - Hookworm ?', 'How to prevent Parasites - Hookworm ?', 'What is (are) Parasites - Zoonotic Hookworm ?', 'Who is at risk for Parasites - Zoonotic Hookworm? ?', 'How to diagnose Parasites - Zoonotic Hookworm ?', 'What are the treatments for Parasites - Zoonotic Hookworm ?', 'How to prevent Parasites - Zoonotic Hookworm ?']\n",
            "['Hookworm is an intestinal parasite of humans. The larvae and adult worms live in the small intestine can cause intestinal disease. The two main species of hookworm infecting humans are Ancylostoma duodenale and Necator americanus.', 'Hookworm is a soil-transmitted helminth (STH) and is one of the most common roundworm of humans. Infection is caused by the nematode parasites Necator americanus and Ancylostoma duodenale. Hookworm infections often occur in areas where human feces are used as fertilizer or where defecation onto soil happens.\\n    Geographic Distribution\\n    \\nThe geographic distributions of the hookworm species that are intestinal parasites in human, Ancylostoma duodenale and Necator americanus, are worldwide in areas with warm, moist climates and are widely overlapping. Necator americanus was widespread in the Southeastern United States until the early 20th century.', 'The standard method for diagnosing the presence of hookworm is by identifying hookworm eggs in a stool sample using a microscope. Because eggs may be difficult to find in light infections, a concentration procedure is recommended.', 'Anthelminthic medications (drugs that rid the body of parasitic worms), such as albendazole and mebendazole, are the drugs of choice for treatment of hookworm infections. Infections are generally treated for 1-3 days. The recommended medications are effective and appear to have few side effects. Iron supplements may also be prescribed if the infected person has anemia.\\n    \\nMore on: Resources for Health Professionals: Treatment', 'The best way to avoid hookworm infection is not to walk barefoot in areas where hookworm is common and where there may be human fecal contamination of the soil. Also, avoid other skin contact with such soil and avoid ingesting it.\\n    \\nInfection can also be prevented by not defecating outdoors and by effective sewage disposal systems.', 'There are many different species of hookworms, some are human parasites and some are animal parasites. People can be infected by larvae of animal hookworms, usually dog and cat hookworms. The most common result of animal hookworm infection is a skin condition called cutaneous larva migrans.', 'Dog and cat hookworms are found throughout the world, especially in warmer climates. In the United States, zoonotic hookworms are found everywhere but more commonly along the East Coast than the West Coast. Worldwide, zoonotic hookworms are found in tropical and subtropical regions where the parasite is better able to survive because of environmental conditions. However, there is one type of dog and cat hookworm that is more commonly found in cooler climates.\\n    \\nThe global burden of zoonotic hookworm in dogs and cats is not known; also, the amount of disease in people caused by these parasites is also unknown. Cutaneous larva migrans (CLM) is most often reported by returning travelers to tropical regions who have had soil and/or sand exposures in places where dogs and cats are likely to have hookworms. However, CLM is likely causing significant problems for the people who live in less developed parts of the world, even though the disease is not reported regularly. In less developed areas of the world, dogs and cats are often free-ranging and have high rates of infection with hookworm which leads to widespread contamination of sand and soil. In a survey of a rural population in Brazil, the prevalence of CLM during the rainy season was 14.9% among children less than 5 years old and 0.7% among adults aged 20 years and older.', 'Cutaneous larva migrans (CLM) is a clinical diagnosis based on the presence of the characteristic signs and symptoms, and exposure history to zoonotic hookworm. For example, the diagnosis can be made based on finding red, raised tracks in the skin that are very itchy. This is usually found on the feet or lower part of the legs on persons who have recently traveled to tropical areas and spent time at the beach. There is no blood test for zoonotic hookworm infection. Persons who think they have CLM should consult their health care provider for accurate diagnosis.', 'The zoonotic hookworm larvae that cause cutaneous larva migrans (CLM) usually do not survive more than 5 – 6 weeks in the human host. In most patients with CLM, the signs and symptoms resolve without medical treatment. However, treatment may help control symptoms and help prevent secondary bacterial infections. Antiparasitic treatments may be prescribed by your health care provider.\\n    \\nMore on: Resources For Health Professionals: Treatment', 'Wearing shoes and taking other protective measures to avoid skin contact with sand or soil will prevent infection with zoonotic hookworms. Travelers to tropical and subtropical climates, especially where beach exposures are likely, should be advised to wear shoes and use protective mats or other coverings to prevent direct skin contact with sand or soil. Routine veterinary care of dogs and cats, including regular deworming, will reduce environmental contamination with zoonotic hookworm eggs and larvae. Prompt disposal of animal feces prevents eggs from hatching and contaminating soil -- which makes it important for control of this parasitic infection.']\n",
            "processed_text_with_stopwords: treatment for parasit hookworm\n"
          ]
        },
        {
          "name": "stderr",
          "output_type": "stream",
          "text": [
            "c:\\Users\\Barath Raaj\\AppData\\Local\\Programs\\Python\\Python311\\Lib\\site-packages\\sklearn\\feature_extraction\\text.py:521: UserWarning: The parameter 'token_pattern' will not be used since 'tokenizer' is not None'\n",
            "  warnings.warn(\n"
          ]
        },
        {
          "data": {
            "text/plain": [
              "'Anthelminthic medications (drugs that rid the body of parasitic worms), such as albendazole and mebendazole, are the drugs of choice for treatment of hookworm infections. Infections are generally treated for 1-3 days. The recommended medications are effective and appear to have few side effects. Iron supplements may also be prescribed if the infected person has anemia.\\n    \\nMore on: Resources for Health Professionals: Treatment'"
            ]
          },
          "execution_count": 17,
          "metadata": {},
          "output_type": "execute_result"
        }
      ],
      "source": [
        "get_response('Treatment for parasites, Hookworm',questions_list)"
      ]
    }
  ],
  "metadata": {
    "colab": {
      "provenance": []
    },
    "kernelspec": {
      "display_name": "Python 3",
      "language": "python",
      "name": "python3"
    },
    "language_info": {
      "codemirror_mode": {
        "name": "ipython",
        "version": 3
      },
      "file_extension": ".py",
      "mimetype": "text/x-python",
      "name": "python",
      "nbconvert_exporter": "python",
      "pygments_lexer": "ipython3",
      "version": "3.11.4"
    }
  },
  "nbformat": 4,
  "nbformat_minor": 5
}
